{
  "nbformat": 4,
  "nbformat_minor": 0,
  "metadata": {
    "colab": {
      "provenance": [],
      "gpuType": "T4"
    },
    "kernelspec": {
      "name": "python3",
      "display_name": "Python 3"
    },
    "language_info": {
      "name": "python"
    },
    "accelerator": "GPU"
  },
  "cells": [
    {
      "cell_type": "markdown",
      "source": [
        "## 1. Install necessary libraries"
      ],
      "metadata": {
        "id": "f2AxIFxZLSUO"
      }
    },
    {
      "cell_type": "code",
      "execution_count": null,
      "metadata": {
        "id": "HUXiYIpYKmze"
      },
      "outputs": [],
      "source": [
        "pip install -q transformers accelerate flash_attn"
      ]
    },
    {
      "cell_type": "markdown",
      "source": [
        "## 2. Import libraries"
      ],
      "metadata": {
        "id": "nuRPsIxLMrEw"
      }
    },
    {
      "cell_type": "code",
      "source": [
        "from transformers import LlavaProcessor, LlavaForConditionalGeneration\n",
        "import torch"
      ],
      "metadata": {
        "id": "o8n-GfhlMrar"
      },
      "execution_count": null,
      "outputs": []
    },
    {
      "cell_type": "markdown",
      "source": [
        "## 3. Load the model and save it locally\n",
        "Change the location of the model_path to your local drive folder"
      ],
      "metadata": {
        "id": "NAVqeZanLdGT"
      }
    },
    {
      "cell_type": "code",
      "source": [
        "from google.colab import drive\n",
        "drive.mount('/content/drive')"
      ],
      "metadata": {
        "id": "KmxfHyElOTNF"
      },
      "execution_count": null,
      "outputs": []
    },
    {
      "cell_type": "code",
      "source": [
        "MODEL_NAME = \"llava-hf/llava-interleave-qwen-0.5b-hf\"\n",
        "LOCAL_PATH = \"/content/drive/MyDrive/Friday_AI_Assistant/llava_local\"\n",
        "\n",
        "print(f\"Downloading LLaVA model from Hugging Face: {MODEL_NAME}\")\n",
        "processor = LlavaProcessor.from_pretrained(MODEL_NAME)\n",
        "model = LlavaForConditionalGeneration.from_pretrained(\n",
        "        MODEL_NAME,\n",
        "        device_map=\"auto\",\n",
        "        dtype=torch.float16\n",
        ")\n",
        "\n",
        "print(\"Saving model and processor locally...\")\n",
        "processor.save_pretrained(LOCAL_PATH)\n",
        "model.save_pretrained(LOCAL_PATH)\n",
        "print(f\"Model saved successfully at: {LOCAL_PATH}\")\n"
      ],
      "metadata": {
        "id": "EA5W_aLoLQCt"
      },
      "execution_count": null,
      "outputs": []
    }
  ]
}